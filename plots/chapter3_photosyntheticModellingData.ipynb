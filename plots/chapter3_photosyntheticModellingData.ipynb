{
 "cells": [
  {
   "cell_type": "code",
   "execution_count": 9,
   "metadata": {},
   "outputs": [],
   "source": [
    "import pandas as pd\n",
    "import numpy as np\n",
    "import matplotlib.pyplot as plt\n",
    "import seaborn as sns\n",
    "from matplotlib.patches import BoxStyle\n",
    "from matplotlib.path import Path\n",
    "from matplotlib import rcParams\n",
    "rcParams['mathtext.default'] = 'regular'\n",
    "from scipy import stats\n",
    "\n",
    "sns.set(font_scale = 1.4, font=\"Arial\")\n",
    "sns.set_style(style='ticks')\n",
    "\n",
    "%matplotlib inline"
   ]
  },
  {
   "cell_type": "code",
   "execution_count": 10,
   "metadata": {},
   "outputs": [],
   "source": [
    "aci_df = pd.read_csv('../data/aci_curve_data.csv')\n",
    "\n",
    "aci_df = aci_df[~aci_df['which_400'].isin(['first', 'second', 'fourth', 'fifth'])]\n",
    "\n",
    "# note, one licor got stuck at 1000umol/m-2/s-1 of light during the ACi curve (as opposed to 1500) so I'm removing those data points here \n",
    "aci_df = aci_df[aci_df['light'] == 1500]"
   ]
  },
  {
   "cell_type": "code",
   "execution_count": 21,
   "metadata": {},
   "outputs": [],
   "source": [
    "def compare_model_parameters(df, trait, y_axis_label, file_name):\n",
    "    \n",
    "    # Group df in order to have one data point per plant\n",
    "    grouped_df = df.groupby(['plant', 'line', 'type']).agg({f'{trait}': ['mean']})\n",
    "    grouped_df.columns = [f'{trait}']\n",
    "    grouped_df = grouped_df.reset_index()\n",
    "\n",
    "    # Add new tidy line name\n",
    "    line_dict = {'wt': 'wild-type', '1.10.18': 'Line 1', '1.10.19': 'Line 2', '1.10.32': 'Line 3', '1.12.2': 'Line 4'}\n",
    "    grouped_df['Line_name'] = grouped_df['line'].map(line_dict)\n",
    "    \n",
    "    # T-test of each mutant line vs wild-type\n",
    "    for line in ['Line 1', 'Line 2', 'Line 3', 'Line 4']:\n",
    "        t_test = stats.ttest_ind(grouped_df[grouped_df['Line_name'] == line][trait].to_list(),\n",
    "                                 grouped_df[grouped_df['Line_name'] == 'wild-type'][trait].to_list(), \n",
    "                                 equal_var=True)\n",
    "        print(line)\n",
    "        print(t_test)\n",
    "\n",
    "    # T-test of all mutant lines grouped together vs wild-type\n",
    "    t_test = ['']\n",
    "    t_test = stats.ttest_ind(grouped_df[grouped_df['type'] == 'mutant'][trait].to_list(),\n",
    "                             grouped_df[grouped_df['type'] == 'wt'][trait].to_list(), \n",
    "                             equal_var=True)\n",
    "    print('wt_vs_all_mutants')\n",
    "    print(t_test)\n",
    "\n",
    "    # Plot!\n",
    "    colours = ['gray', '#009E73']\n",
    "    ax = sns.barplot(x=\"Line_name\", y=trait, hue=\"type\", data=grouped_df, dodge=False, ci='sd', palette=colours, saturation=0.5,\n",
    "                order=['wild-type', 'Line 1', 'Line 2', 'Line 3', 'Line 4'])\n",
    "    \n",
    "    \n",
    "    ax.legend_.remove()\n",
    "    ax.set_ylabel(f'{y_axis_label}')\n",
    "    ax.set_xlabel('Line')\n",
    "    \n",
    "    plt.savefig(file_name, transparent=True, dpi=300, bbox_inches='tight')"
   ]
  },
  {
   "cell_type": "code",
   "execution_count": 22,
   "metadata": {},
   "outputs": [
    {
     "name": "stdout",
     "output_type": "stream",
     "text": [
      "Line 1\n",
      "Ttest_indResult(statistic=0.8252453893880619, pvalue=0.43314934903772295)\n",
      "Line 2\n",
      "Ttest_indResult(statistic=1.0269106361049416, pvalue=0.33450785968248503)\n",
      "Line 3\n",
      "Ttest_indResult(statistic=0.885659448869258, pvalue=0.4051964514906455)\n",
      "Line 4\n",
      "Ttest_indResult(statistic=0.6533586077765652, pvalue=0.5318500946590536)\n",
      "wt_vs_all_mutants\n",
      "Ttest_indResult(statistic=0.9931929211767383, pvalue=0.33141498388262913)\n"
     ]
    },
    {
     "data": {
      "image/png": "[encoded data removed]",
      "text/plain": [
       "<Figure size 432x288 with 1 Axes>"
      ]
     },
     "metadata": {
      "needs_background": "light"
     },
     "output_type": "display_data"
    }
   ],
   "source": [
    "# Vcmax\n",
    "compare_model_parameters(aci_df, 'pce_Vcmax', 'Vcmax', '../figures/Vcmax.pdf')"
   ]
  },
  {
   "cell_type": "code",
   "execution_count": 13,
   "metadata": {},
   "outputs": [
    {
     "name": "stdout",
     "output_type": "stream",
     "text": [
      "Line 1\n",
      "Ttest_indResult(statistic=0.6554304242983322, pvalue=0.5305828949777409)\n",
      "Line 2\n",
      "Ttest_indResult(statistic=0.7462664903107565, pvalue=0.47686109371358243)\n",
      "Line 3\n",
      "Ttest_indResult(statistic=0.6806790142058095, pvalue=0.5179487200968168)\n",
      "Line 4\n",
      "Ttest_indResult(statistic=0.8550584993451019, pvalue=0.41738913921372733)\n",
      "wt_vs_all_mutants\n",
      "Ttest_indResult(statistic=0.9909383102874311, pvalue=0.332490216135067)\n"
     ]
    },
    {
     "data": {
      "image/png": "[encoded data removed]",
      "text/plain": [
       "<Figure size 432x288 with 1 Axes>"
      ]
     },
     "metadata": {
      "needs_background": "light"
     },
     "output_type": "display_data"
    }
   ],
   "source": [
    "# J\n",
    "compare_model_parameters(aci_df, 'pce_J', 'J', '../figures/J.pdf')"
   ]
  },
  {
   "cell_type": "code",
   "execution_count": 14,
   "metadata": {},
   "outputs": [
    {
     "name": "stdout",
     "output_type": "stream",
     "text": [
      "Line 1\n",
      "Ttest_indResult(statistic=0.21500329089187833, pvalue=0.835144507633451)\n",
      "Line 2\n",
      "Ttest_indResult(statistic=0.4310243502649518, pvalue=0.6778292052156367)\n",
      "Line 3\n",
      "Ttest_indResult(statistic=0.05762006944411349, pvalue=0.9556615689090656)\n",
      "Line 4\n",
      "Ttest_indResult(statistic=0.4542199791661299, pvalue=0.6617406174589223)\n",
      "wt_vs_all_mutants\n",
      "Ttest_indResult(statistic=0.43704657017681775, pvalue=0.6663374946556256)\n"
     ]
    },
    {
     "data": {
      "image/png": "[encoded data removed]",
      "text/plain": [
       "<Figure size 432x288 with 1 Axes>"
      ]
     },
     "metadata": {
      "needs_background": "light"
     },
     "output_type": "display_data"
    }
   ],
   "source": [
    "# TPU\n",
    "compare_model_parameters(aci_df, 'pce_TPU', 'TPU', '../figures/TPU.pdf')"
   ]
  },
  {
   "cell_type": "code",
   "execution_count": 17,
   "metadata": {},
   "outputs": [
    {
     "name": "stdout",
     "output_type": "stream",
     "text": [
      "Line 1\n",
      "Ttest_indResult(statistic=0.9361601718947407, pvalue=0.3765857564757503)\n",
      "Line 2\n",
      "Ttest_indResult(statistic=-0.4795530828214533, pvalue=0.6443808532794062)\n",
      "Line 3\n",
      "Ttest_indResult(statistic=-1.267742048021404, pvalue=0.24542883291629022)\n",
      "Line 4\n",
      "Ttest_indResult(statistic=0.43975636747608426, pvalue=0.6717513861849609)\n",
      "wt_vs_all_mutants\n",
      "Ttest_indResult(statistic=-0.02411706436395748, pvalue=0.9809766489140319)\n"
     ]
    },
    {
     "data": {
      "image/png": "[encoded data removed]",
      "text/plain": [
       "<Figure size 432x288 with 1 Axes>"
      ]
     },
     "metadata": {
      "needs_background": "light"
     },
     "output_type": "display_data"
    }
   ],
   "source": [
    "# Rd\n",
    "compare_model_parameters(aci_df, 'pce_Rd', 'Rd', '../figures/Rd.pdf')"
   ]
  },
  {
   "cell_type": "code",
   "execution_count": 18,
   "metadata": {},
   "outputs": [
    {
     "name": "stdout",
     "output_type": "stream",
     "text": [
      "Line 1\n",
      "Ttest_indResult(statistic=-0.3929333148036438, pvalue=0.7046316636285154)\n",
      "Line 2\n",
      "Ttest_indResult(statistic=-1.7486958981165217, pvalue=0.11846757668942909)\n",
      "Line 3\n",
      "Ttest_indResult(statistic=-1.008981580177749, pvalue=0.3465810191058598)\n",
      "Line 4\n",
      "Ttest_indResult(statistic=0.02770934206629786, pvalue=0.9785727338120371)\n",
      "wt_vs_all_mutants\n",
      "Ttest_indResult(statistic=-0.9133287086489115, pvalue=0.37097096692807185)\n"
     ]
    },
    {
     "data": {
      "image/png": "[encoded data removed]",
      "text/plain": [
       "<Figure size 432x288 with 1 Axes>"
      ]
     },
     "metadata": {
      "needs_background": "light"
     },
     "output_type": "display_data"
    }
   ],
   "source": [
    "# gm\n",
    "compare_model_parameters(aci_df, 'pce_gm', 'gm', '../figures/gm.pdf')"
   ]
  },
  {
   "cell_type": "code",
   "execution_count": null,
   "metadata": {},
   "outputs": [],
   "source": []
  },
  {
   "cell_type": "code",
   "execution_count": null,
   "metadata": {},
   "outputs": [],
   "source": []
  }
 ],
 "metadata": {
  "kernelspec": {
   "display_name": "Python [conda env:relocalisations_C4]",
   "language": "python",
   "name": "conda-env-relocalisations_C4-py"
  },
  "language_info": {
   "codemirror_mode": {
    "name": "ipython",
    "version": 3
   },
   "file_extension": ".py",
   "mimetype": "text/x-python",
   "name": "python",
   "nbconvert_exporter": "python",
   "pygments_lexer": "ipython3",
   "version": "3.7.3"
  }
 },
 "nbformat": 4,
 "nbformat_minor": 4
}
