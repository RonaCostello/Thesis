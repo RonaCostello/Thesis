{
 "cells": [
  {
   "cell_type": "code",
   "execution_count": 1,
   "metadata": {},
   "outputs": [],
   "source": [
    "import pandas as pd\n",
    "import numpy as np\n",
    "import matplotlib.pyplot as plt\n",
    "import seaborn as sns\n",
    "from matplotlib.patches import BoxStyle\n",
    "from matplotlib.path import Path\n",
    "from matplotlib import rcParams\n",
    "rcParams['mathtext.default'] = 'regular'\n",
    "from scipy import stats\n",
    "\n",
    "%matplotlib inline"
   ]
  },
  {
   "cell_type": "code",
   "execution_count": 2,
   "metadata": {},
   "outputs": [
    {
     "name": "stdout",
     "output_type": "stream",
     "text": [
      "   Name mutant_wt     Line  Weight/Vol     Beam Area  N (Sam) ug  \\\n",
      "0   1_1        wt       wt        1.59  5.840000e-08  107.760690   \n",
      "1   1_2        wt       wt        1.42  5.530000e-08  101.995067   \n",
      "2   1_3        wt       wt        1.62  5.970000e-08  109.890656   \n",
      "3   1_4        wt       wt        1.48  5.660000e-08  104.071927   \n",
      "4   1_5        wt       wt        1.12  4.190000e-08   76.864136   \n",
      "5   1_6        wt       wt        1.79  6.940000e-08  127.058082   \n",
      "6   2_1    mutant  1.10.18        1.58  5.890000e-08  107.787099   \n",
      "7   2_2    mutant  1.10.18        1.23  4.830000e-08   88.132875   \n",
      "8   2_3    mutant  1.10.18        1.73  6.850000e-08  124.816397   \n",
      "9   2_4    mutant  1.10.18        1.86  7.360000e-08  134.097182   \n",
      "10  2_5    mutant  1.10.18        1.47  5.820000e-08  106.163139   \n",
      "11  2_6    mutant  1.10.18        1.41  5.190000e-08   94.632456   \n",
      "12  3_1    mutant  1.10.19        1.24  4.750000e-08   86.784892   \n",
      "13  3_2    mutant  1.10.19        1.69  6.480000e-08  118.321693   \n",
      "14  3_3    mutant  1.10.19        1.52  5.800000e-08  106.117434   \n",
      "15  3_4    mutant  1.10.19        1.49  5.550000e-08  101.508221   \n",
      "16  3_5    mutant  1.10.19        1.47  5.650000e-08  101.603044   \n",
      "17  3_6    mutant  1.10.19        1.77  6.710000e-08  120.632317   \n",
      "18  4_1    mutant  1.10.32        1.56  5.920000e-08  106.436649   \n",
      "19  4_2    mutant  1.10.32        1.84  7.020000e-08  126.283154   \n",
      "20  4_3    mutant  1.10.32        1.09  4.170000e-08   75.033030   \n",
      "21  4_4    mutant  1.10.32        1.59  6.110000e-08  109.878940   \n",
      "22  4_5    mutant  1.10.32        1.16  4.050000e-08   72.886348   \n",
      "23  4_6    mutant  1.10.32        1.15  3.910000e-08   70.301011   \n",
      "24  5_1    mutant   1.12.2        1.40  5.570000e-08  100.541025   \n",
      "25  5_2    mutant   1.12.2        1.65  6.060000e-08  109.602481   \n",
      "26  5_3    mutant   1.12.2        1.55  5.750000e-08  104.093256   \n",
      "27  5_4    mutant   1.12.2        1.19  4.880000e-08   88.592638   \n",
      "28  5_5    mutant   1.12.2        1.32  5.040000e-08   91.548344   \n",
      "29  5_6    mutant   1.12.2        1.31  4.760000e-08   86.533844   \n",
      "\n",
      "    15N (Sam) DeltaAir  None (Sam)  Ratio 1   Beam Area.1  C (Sam) ug  \\\n",
      "0             4.164139           0  0.00715  2.240000e-07  644.718177   \n",
      "1             4.999368           0  0.00716  1.960000e-07  562.612129   \n",
      "2            -0.692229           0  0.00712  2.230000e-07  639.146287   \n",
      "3             4.965298           0  0.00716  2.060000e-07  589.332595   \n",
      "4             4.948268           0  0.00716  1.600000e-07  458.669646   \n",
      "5             5.629620           0  0.00716  2.470000e-07  706.810114   \n",
      "6             4.901837           0  0.00716  2.130000e-07  607.453961   \n",
      "7             4.712551           0  0.00715  1.710000e-07  487.758641   \n",
      "8             3.728084           0  0.00715  2.470000e-07  701.395361   \n",
      "9            -1.733388           0  0.00711  2.570000e-07  728.437731   \n",
      "10            2.128094           0  0.00714  1.910000e-07  542.472951   \n",
      "11           -1.576879           0  0.00711  1.800000e-07  512.531108   \n",
      "12            2.179016           0  0.00714  1.710000e-07  485.159597   \n",
      "13            3.929626           0  0.00715  2.330000e-07  661.230511   \n",
      "14            3.532347           0  0.00715  2.180000e-07  618.607886   \n",
      "15            1.858752           0  0.00713  2.070000e-07  587.249304   \n",
      "16            1.432827           0  0.00713  2.040000e-07  575.645321   \n",
      "17            1.945467           0  0.00713  2.330000e-07  654.875193   \n",
      "18            0.727802           0  0.00712  2.160000e-07  603.606062   \n",
      "19            0.685635           0  0.00712  2.540000e-07  710.095777   \n",
      "20            1.107104           0  0.00712  1.530000e-07  425.694058   \n",
      "21           -0.420919           0  0.00711  2.190000e-07  608.913674   \n",
      "22           -0.608404           0  0.00711  1.580000e-07  437.328962   \n",
      "23            0.393553           0  0.00712  1.370000e-07  378.429137   \n",
      "24            5.409898           0  0.00715  1.920000e-07  530.628044   \n",
      "25            4.698253           0  0.00715  2.150000e-07  596.854049   \n",
      "26            4.236469           0  0.00714  2.100000e-07  583.112918   \n",
      "27            5.528081           0  0.00715  1.750000e-07  488.960733   \n",
      "28            5.012300           0  0.00715  1.830000e-07  511.923006   \n",
      "29            2.545069           0  0.00713  1.790000e-07  500.856344   \n",
      "\n",
      "    13C (Sam) DeltaPDB  C/N ratio  Unnamed: 13  \n",
      "0           -35.281919   5.982870          NaN  \n",
      "1           -35.716540   5.516072          NaN  \n",
      "2           -34.979604   5.816202          NaN  \n",
      "3           -35.867496   5.662743          NaN  \n",
      "4           -35.579313   5.967278          NaN  \n",
      "5           -35.196392   5.562890          NaN  \n",
      "6           -35.356082   5.635683          NaN  \n",
      "7           -35.880612   5.534355          NaN  \n",
      "8           -35.894371   5.619417          NaN  \n",
      "9           -35.735387   5.432163          NaN  \n",
      "10          -35.878673   5.109805          NaN  \n",
      "11          -35.475854   5.416018          NaN  \n",
      "12          -35.258107   5.590369          NaN  \n",
      "13          -36.088673   5.588413          NaN  \n",
      "14          -35.829813   5.829465          NaN  \n",
      "15          -35.323384   5.785239          NaN  \n",
      "16          -36.085524   5.665631          NaN  \n",
      "17          -35.045857   5.428688          NaN  \n",
      "18          -35.455188   5.671036          NaN  \n",
      "19          -35.986346   5.623044          NaN  \n",
      "20          -35.968307   5.673422          NaN  \n",
      "21          -36.492874   5.541678          NaN  \n",
      "22          -35.582033   6.000149          NaN  \n",
      "23          -35.104364   5.382983          NaN  \n",
      "24          -35.944597   5.277727          NaN  \n",
      "25          -34.947894   5.445625          NaN  \n",
      "26          -35.654340   5.601832          NaN  \n",
      "27          -36.040545   5.519203          NaN  \n",
      "28          -35.846227   5.591832          NaN  \n",
      "29          -36.211819   5.787982          NaN  \n"
     ]
    }
   ],
   "source": [
    "carbon_df = pd.read_csv('../data/carbonNitrogenIsotope.csv')\n",
    "print(carbon_df)"
   ]
  },
  {
   "cell_type": "markdown",
   "metadata": {},
   "source": [
    "#### Test for a significant difference in the carbon/nitrogen ratio between each line and wild type plants"
   ]
  },
  {
   "cell_type": "code",
   "execution_count": 3,
   "metadata": {},
   "outputs": [
    {
     "name": "stdout",
     "output_type": "stream",
     "text": [
      "1.10.18\n",
      "Ttest_indResult(statistic=-2.572667518681293, pvalue=0.02776333881153151)\n",
      "1.10.19\n",
      "Ttest_indResult(statistic=-1.01661036360404, pvalue=0.33330383054299406)\n",
      "1.10.32\n",
      "Ttest_indResult(statistic=-0.8773073945931101, pvalue=0.4009053005269272)\n",
      "1.12.2\n",
      "Ttest_indResult(statistic=-1.9831666577346878, pvalue=0.07547404522077693)\n"
     ]
    }
   ],
   "source": [
    "for line in ['1.10.18', '1.10.19', '1.10.32', '1.12.2']:\n",
    "    t_test = stats.ttest_ind(carbon_df[(carbon_df['Line'] == line)]['C/N ratio'].to_list(),\n",
    "                             carbon_df[(carbon_df['Line'] == 'wt')]['C/N ratio'].to_list(), \n",
    "                             equal_var=True)\n",
    "    \n",
    "    print(line)\n",
    "    print(t_test)"
   ]
  },
  {
   "cell_type": "markdown",
   "metadata": {},
   "source": [
    "#### Test for a significant difference in the carbon/nitrogen ratio between each mutant and wild type plants"
   ]
  },
  {
   "cell_type": "code",
   "execution_count": 4,
   "metadata": {},
   "outputs": [
    {
     "name": "stdout",
     "output_type": "stream",
     "text": [
      "Ttest_indResult(statistic=-2.061504700643912, pvalue=0.04864893090847168)\n"
     ]
    }
   ],
   "source": [
    "t_test = stats.ttest_ind(carbon_df[(carbon_df['mutant_wt'] == 'mutant')]['C/N ratio'].to_list(),\n",
    "                             carbon_df[(carbon_df['mutant_wt'] == 'wt')]['C/N ratio'].to_list(), \n",
    "                             equal_var=True)\n",
    "    \n",
    "print(t_test)"
   ]
  },
  {
   "cell_type": "markdown",
   "metadata": {},
   "source": [
    "### Plot the data"
   ]
  },
  {
   "cell_type": "code",
   "execution_count": 5,
   "metadata": {},
   "outputs": [
    {
     "name": "stdout",
     "output_type": "stream",
     "text": [
      "Name\n",
      "mutant_wt\n",
      "Line\n",
      "Weight/Vol\n",
      "Beam Area\n",
      "N (Sam) ug\n",
      "15N (Sam) DeltaAir\n",
      "None (Sam)\n",
      "Ratio 1\n",
      "Beam Area.1\n",
      "C (Sam) ug\n",
      "13C (Sam) DeltaPDB\n",
      "C/N ratio\n",
      "Unnamed: 13\n",
      "Line_name\n"
     ]
    }
   ],
   "source": [
    "line_dict = {'wt': 'wild type', '1.10.18': 'Line 1', '1.10.19': 'Line 2', '1.10.32': 'Line 3', '1.12.2': 'Line 4'}\n",
    "carbon_df['Line_name'] = carbon_df['Line'].map(line_dict)\n",
    "for col in carbon_df.columns:\n",
    "    print(col)"
   ]
  },
  {
   "cell_type": "code",
   "execution_count": 11,
   "metadata": {},
   "outputs": [
    {
     "data": {
      "image/png": "[encoded data removed]",
      "text/plain": [
       "<Figure size 576x288 with 2 Axes>"
      ]
     },
     "metadata": {},
     "output_type": "display_data"
    }
   ],
   "source": [
    "# sns.plotting_context()\n",
    "sns.set(font_scale = 1.4, font='Arial')\n",
    "sns.set_style(style='ticks')\n",
    "\n",
    "fig, axs = plt.subplots(ncols=2, figsize=(8,4), sharey=True)\n",
    "\n",
    "\n",
    "# Choose hue colour palette\n",
    "colours = ['#000000', '#56B4E9', '#56B4E9', '#56B4E9', '#56B4E9']\n",
    "\n",
    "# Comparison of each line\n",
    "\n",
    "ax0_boxplot = sns.boxplot(x='Line_name', y='C/N ratio', data=carbon_df, ax=axs[0], palette=colours,\n",
    "           order=['wild type', 'Line 1', 'Line 2', 'Line 3', 'Line 4'], linewidth=1.3, showfliers = False)\n",
    "\n",
    "ax0_stripplot = sns.stripplot(x='Line_name', y='C/N ratio', data=carbon_df, ax=axs[0], palette=colours, alpha=1,\n",
    "           order=['wild type', 'Line 1', 'Line 2', 'Line 3', 'Line 4'], jitter=0.05, edgecolor='gray', linewidth=0.3, size=4)\n",
    "\n",
    "ax0_boxplot.set_xticklabels(['wild type', 'Line 1', 'Line 2', 'Line 3', 'Line 4'], ha='right', rotation=45)\n",
    "\n",
    "# Wild type vs mutant\n",
    "\n",
    "ax1_boxplot = sns.boxplot(x='mutant_wt', y='C/N ratio', data=carbon_df, ax=axs[1], palette=colours,\n",
    "           order=['wt', 'mutant'], linewidth=1.3, showfliers = False)\n",
    "\n",
    "ax1_stripplot = sns.stripplot(x='mutant_wt', y='C/N ratio', data=carbon_df, ax=axs[1], palette=colours, alpha=1,\n",
    "           order=['wt', 'mutant'], jitter=0.05, edgecolor='gray', linewidth=0.3, size=4)\n",
    "\n",
    "ax1_boxplot.set_xticklabels(['wild type', '$\\it{ailp1}$'])\n",
    "\n",
    "# Apply transparency to boxplots\n",
    "\n",
    "for patch in ax0_boxplot.artists:\n",
    "    red, green, blue, alpha = patch.get_facecolor()\n",
    "    patch.set_facecolor((red, green, blue, .5))\n",
    "for patch in ax1_boxplot.artists:\n",
    "    red, green, blue, alpha = patch.get_facecolor()\n",
    "    patch.set_facecolor((red, green, blue, .5))\n",
    "    \n",
    "# Axes labels\n",
    "\n",
    "axs[0].set_xlabel('')\n",
    "axs[0].set_ylabel('C:N')\n",
    "axs[1].set_xlabel('')\n",
    "axs[1].set_ylabel('')\n",
    "\n",
    "\n",
    "# Subplot labels\n",
    "\n",
    "labels = ['A', 'B']\n",
    "for n, ax in enumerate(axs):  \n",
    "    ax.text(-0.15, 1.05, labels[n], transform=ax.transAxes, \n",
    "            size=20, weight='bold')\n",
    "    \n",
    "axs[0].plot([0, 1], [6.05, 6.05], 'k')\n",
    "axs[0].plot([0, 1], [6.15, 6.15], 'w')\n",
    "axs[0].text(0.5, 6.06, '*', fontsize=18, ha='center')\n",
    "\n",
    "axs[1].plot([0, 1], [6.05, 6.05], 'k')\n",
    "axs[1].text(0.5, 6.06, '*', fontsize=18, ha='center')\n",
    "\n",
    "\n",
    "\n",
    "plt.savefig(\"../figures/CN_ratio.pdf\", transparent=True, dpi=300, bbox_inches='tight')"
   ]
  },
  {
   "cell_type": "code",
   "execution_count": null,
   "metadata": {},
   "outputs": [],
   "source": []
  },
  {
   "cell_type": "code",
   "execution_count": null,
   "metadata": {},
   "outputs": [],
   "source": []
  }
 ],
 "metadata": {
  "kernelspec": {
   "display_name": "Python [conda env:relocalisations_C4]",
   "language": "python",
   "name": "conda-env-relocalisations_C4-py"
  },
  "language_info": {
   "codemirror_mode": {
    "name": "ipython",
    "version": 3
   },
   "file_extension": ".py",
   "mimetype": "text/x-python",
   "name": "python",
   "nbconvert_exporter": "python",
   "pygments_lexer": "ipython3",
   "version": "3.7.3"
  }
 },
 "nbformat": 4,
 "nbformat_minor": 4
}
