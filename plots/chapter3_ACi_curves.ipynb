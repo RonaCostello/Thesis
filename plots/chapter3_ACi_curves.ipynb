{
 "cells": [
  {
   "cell_type": "code",
   "execution_count": 1,
   "metadata": {},
   "outputs": [],
   "source": [
    "import pandas as pd\n",
    "import numpy as np\n",
    "import matplotlib.pyplot as plt\n",
    "import seaborn as sns\n",
    "from matplotlib.patches import BoxStyle\n",
    "from matplotlib.path import Path\n",
    "from matplotlib import rcParams\n",
    "rcParams['mathtext.default'] = 'regular'\n",
    "from scipy import stats\n",
    "\n",
    "%matplotlib inline"
   ]
  },
  {
   "cell_type": "code",
   "execution_count": 2,
   "metadata": {},
   "outputs": [],
   "source": [
    "aci_df = pd.read_csv('../data/aci_curve_data.csv')\n",
    "\n",
    "aci_df = aci_df[~aci_df['which_400'].isin(['first', 'second', 'fourth', 'fifth'])]\n",
    "\n",
    "# note, one licor got stuck at 1000umol/m-2/s-1 of light during the ACi curve (as opposed to 1500) so I'm removing those data points here \n",
    "aci_df = aci_df[aci_df['light'] == 1500]\n",
    "\n",
    "grouped_df = aci_df.groupby(['CO2_r_sp', 'plot', 'type']).agg({'A': ['mean', 'std'], 'Ci': ['mean', 'std'], 'gsw': ['mean', 'std']})\n",
    "grouped_df.columns = ['A_mean', 'A_std', 'Ci_mean', 'Ci_std', 'gsw_mean', 'gsw_std']\n",
    "grouped_df = grouped_df.reset_index()"
   ]
  },
  {
   "cell_type": "code",
   "execution_count": 3,
   "metadata": {},
   "outputs": [],
   "source": [
    "class ExtendedTextBox(BoxStyle._Base):\n",
    "    \"\"\"\n",
    "    An Extended Text Box that expands to the axes limits \n",
    "                        if set in the middle of the axes\n",
    "    \"\"\"\n",
    "\n",
    "    def __init__(self, pad=0.3, width=500.):\n",
    "        \"\"\"\n",
    "        width: \n",
    "            width of the textbox. \n",
    "            Use `ax.get_window_extent().width` \n",
    "                   to get the width of the axes.\n",
    "        pad: \n",
    "            amount of padding (in vertical direction only)\n",
    "        \"\"\"\n",
    "        self.width=(width*0.9)\n",
    "        self.pad = pad\n",
    "        super(ExtendedTextBox, self).__init__()\n",
    "\n",
    "    def transmute(self, x0, y0, width, height, mutation_size):\n",
    "        \"\"\"\n",
    "        x0 and y0 are the lower left corner of original text box\n",
    "        They are set automatically by matplotlib\n",
    "        \"\"\"\n",
    "        # padding\n",
    "        pad = mutation_size * self.pad\n",
    "\n",
    "        # we add the padding only to the box height\n",
    "        height = height + 2.*pad\n",
    "        # boundary of the padded box\n",
    "        y0 = y0 - pad\n",
    "        y1 = y0 + height\n",
    "        _x0 = x0\n",
    "        x0 = _x0 +width /2. - self.width/2.\n",
    "        x1 = _x0 +width /2. + self.width/2.\n",
    "\n",
    "        cp = [(x0, y0),\n",
    "              (x1, y0), (x1, y1), (x0, y1),\n",
    "              (x0, y0)]\n",
    "\n",
    "        com = [Path.MOVETO,\n",
    "               Path.LINETO, Path.LINETO, Path.LINETO,\n",
    "               Path.CLOSEPOLY]\n",
    "\n",
    "        path = Path(cp, com)\n",
    "\n",
    "        return path\n",
    "    \n",
    "\n",
    "# register the custom style\n",
    "BoxStyle._style_list[\"ext\"] = ExtendedTextBox"
   ]
  },
  {
   "cell_type": "code",
   "execution_count": 40,
   "metadata": {},
   "outputs": [],
   "source": [
    "def test_for_significance(aci_df, test_parameter):\n",
    "    CO2_conc = [25,   50,  100,  200,  300,  400,  600,  800, 1000, 1200, 1500]\n",
    "    line_18 = {}\n",
    "    line_19 = {}\n",
    "    line_32 = {}\n",
    "    line_2 = {}\n",
    "    \n",
    "    for line in ['1.10.18', '1.10.19', '1.10.32', '1.12.2']:\n",
    "        for conc in CO2_conc:\n",
    "            t_test = stats.ttest_ind(aci_df[(aci_df['plot'] == line) & (aci_df['CO2_r_sp'] == conc) & (aci_df['type'] == 'wt')][test_parameter].to_list(),\n",
    "                                     aci_df[(aci_df['plot'] == line) & (aci_df['CO2_r_sp'] == conc) & (aci_df['type'] == 'mutant')][test_parameter].to_list(), \n",
    "                                     equal_var=True)\n",
    "            if line == '1.10.18':\n",
    "                line_18[conc] = t_test.pvalue\n",
    "            if line == '1.10.19':\n",
    "                line_19[conc] = t_test.pvalue\n",
    "            if line == '1.10.32':\n",
    "                line_32[conc] = t_test.pvalue\n",
    "            if line == '1.12.2':\n",
    "                line_2[conc] = t_test.pvalue\n",
    "    \n",
    "    return(line_18, line_19, line_32, line_2)\n",
    "\n"
   ]
  },
  {
   "cell_type": "markdown",
   "metadata": {},
   "source": [
    "#### Test for differences in A at each ACi level"
   ]
  },
  {
   "cell_type": "code",
   "execution_count": 41,
   "metadata": {},
   "outputs": [],
   "source": [
    "photo_dict = {}\n",
    "\n",
    "A = test_for_significance(aci_df, 'A')\n",
    "    \n",
    "photo_dict['A_18'] = A[0]\n",
    "photo_dict['A_19'] = A[1]\n",
    "photo_dict['A_32'] = A[2]\n",
    "photo_dict['A_2'] = A[3]\n",
    "\n",
    "Ci = test_for_significance(aci_df, 'Ci')\n",
    "\n",
    "photo_dict['Ci_18'] = Ci[0]\n",
    "photo_dict['Ci_19'] = Ci[1]\n",
    "photo_dict['Ci_32'] = Ci[2]\n",
    "photo_dict['Ci_2'] = Ci[3]\n",
    "\n",
    "gsw = test_for_significance(aci_df, 'gsw')\n",
    "\n",
    "photo_dict['gsw_18'] = gsw[0]\n",
    "photo_dict['gsw_19'] = gsw[1]\n",
    "photo_dict['gsw_32'] = gsw[2]\n",
    "photo_dict['gsw_2'] = gsw[3]\n"
   ]
  },
  {
   "cell_type": "code",
   "execution_count": 42,
   "metadata": {},
   "outputs": [
    {
     "data": {
      "text/plain": [
       "{'A_18': {25: 0.6810271686633375,\n",
       "  50: 0.5909448277379952,\n",
       "  100: 0.6284010540037315,\n",
       "  200: 0.6824393134265163,\n",
       "  300: 0.6042973853249691,\n",
       "  400: 0.639969832241474,\n",
       "  600: 0.8349439731976911,\n",
       "  800: 0.4959370249002617,\n",
       "  1000: 0.8092902830074191,\n",
       "  1200: 0.7560541395080775,\n",
       "  1500: 0.9953714623213051},\n",
       " 'A_19': {25: 0.35493789010793086,\n",
       "  50: 0.3319934448390602,\n",
       "  100: 0.5759297606842175,\n",
       "  200: 0.8013041907566526,\n",
       "  300: 0.8232433512138747,\n",
       "  400: 0.537867364762465,\n",
       "  600: 0.6388875379561909,\n",
       "  800: 0.44178371486288526,\n",
       "  1000: 0.5356544797279368,\n",
       "  1200: 0.416455530881254,\n",
       "  1500: 0.6317289692176347},\n",
       " 'A_32': {25: 0.26186254796710007,\n",
       "  50: 0.06533294411575112,\n",
       "  100: 0.06457134424628996,\n",
       "  200: 0.11242100677298425,\n",
       "  300: 0.39622472891258265,\n",
       "  400: 0.08182705291819839,\n",
       "  600: 0.3047209328050832,\n",
       "  800: 0.19593694316601523,\n",
       "  1000: 0.29934440751711666,\n",
       "  1200: 0.3158265454055063,\n",
       "  1500: 0.702178519466945},\n",
       " 'A_2': {25: 0.7725045964999431,\n",
       "  50: 0.941419368103455,\n",
       "  100: 0.8513326352380293,\n",
       "  200: 0.4375634126857906,\n",
       "  300: 0.6451863568862051,\n",
       "  400: 0.16615728074239566,\n",
       "  600: 0.30582267931496254,\n",
       "  800: 0.29483329463878477,\n",
       "  1000: 0.2196990741934517,\n",
       "  1200: 0.3635502376019667,\n",
       "  1500: 0.8620038752472984},\n",
       " 'Ci_18': {25: 0.9984917383162137,\n",
       "  50: 0.6767965550450638,\n",
       "  100: 0.5053551710572113,\n",
       "  200: 0.6394380331454579,\n",
       "  300: 0.7286512045647924,\n",
       "  400: 0.5573142796531374,\n",
       "  600: 0.3469647072495551,\n",
       "  800: 0.32466773544486555,\n",
       "  1000: 0.39196327918100504,\n",
       "  1200: 0.5914656237434474,\n",
       "  1500: 0.7189492249348903},\n",
       " 'Ci_19': {25: 0.4461992419699222,\n",
       "  50: 0.4484938630830827,\n",
       "  100: 0.7287703347899176,\n",
       "  200: 0.677130246063611,\n",
       "  300: 0.9040512139622428,\n",
       "  400: 0.9136666229564828,\n",
       "  600: 0.6582411625954694,\n",
       "  800: 0.5256701533297202,\n",
       "  1000: 0.38975307060419107,\n",
       "  1200: 0.2355013179157323,\n",
       "  1500: 0.17086132527084502},\n",
       " 'Ci_32': {25: 0.03992171673073222,\n",
       "  50: 0.049772716801467304,\n",
       "  100: 0.2697623819694349,\n",
       "  200: 0.639608453837085,\n",
       "  300: 0.9021840643930823,\n",
       "  400: 0.5686307354244482,\n",
       "  600: 0.1695323057616451,\n",
       "  800: 0.06933438171170177,\n",
       "  1000: 0.028066097398841527,\n",
       "  1200: 0.040632778737075,\n",
       "  1500: 0.05099804118091095},\n",
       " 'Ci_2': {25: 0.48174917496232283,\n",
       "  50: 0.6177607090439261,\n",
       "  100: 0.7208321744051297,\n",
       "  200: 0.456309105461119,\n",
       "  300: 0.4016224274196175,\n",
       "  400: 0.6380789535469649,\n",
       "  600: 0.2967012952810498,\n",
       "  800: 0.14958818173846938,\n",
       "  1000: 0.10575042391073734,\n",
       "  1200: 0.11046108376405318,\n",
       "  1500: 0.22616768671318996},\n",
       " 'gsw_18': {25: 0.35863164504558864,\n",
       "  50: 0.29212252738009875,\n",
       "  100: 0.3735228876037061,\n",
       "  200: 0.7889884137850522,\n",
       "  300: 0.9750412083939524,\n",
       "  400: 0.2619635795137499,\n",
       "  600: 0.2125713534174163,\n",
       "  800: 0.134169725244635,\n",
       "  1000: 0.39053345615008683,\n",
       "  1200: 0.6600722844893333,\n",
       "  1500: 0.9808250536796121},\n",
       " 'gsw_19': {25: 0.9910405006680958,\n",
       "  50: 0.9665590242957326,\n",
       "  100: 0.9934973916685889,\n",
       "  200: 0.7987480993885763,\n",
       "  300: 0.7993591971410597,\n",
       "  400: 0.7408617684974677,\n",
       "  600: 0.6034120209827348,\n",
       "  800: 0.394598329820416,\n",
       "  1000: 0.3341322316806196,\n",
       "  1200: 0.2368685148247799,\n",
       "  1500: 0.264590386666656},\n",
       " 'gsw_32': {25: 0.11222159588750079,\n",
       "  50: 0.14377372763826338,\n",
       "  100: 0.2007456444270185,\n",
       "  200: 0.28081288368800505,\n",
       "  300: 0.4470550366110886,\n",
       "  400: 0.09769564762545443,\n",
       "  600: 0.03418029389530417,\n",
       "  800: 0.010536585906066097,\n",
       "  1000: 0.013953817302077315,\n",
       "  1200: 0.029755354947190636,\n",
       "  1500: 0.051966014018142326},\n",
       " 'gsw_2': {25: 0.23553503976444284,\n",
       "  50: 0.24154822768265133,\n",
       "  100: 0.2420667019091461,\n",
       "  200: 0.24837472090874607,\n",
       "  300: 0.25047142471855616,\n",
       "  400: 0.12893933102641678,\n",
       "  600: 0.064582094499234,\n",
       "  800: 0.029768447187969477,\n",
       "  1000: 0.02333374878453349,\n",
       "  1200: 0.05039803360215217,\n",
       "  1500: 0.19651797399744692}}"
      ]
     },
     "execution_count": 42,
     "metadata": {},
     "output_type": "execute_result"
    }
   ],
   "source": [
    "photo_dict"
   ]
  },
  {
   "cell_type": "markdown",
   "metadata": {},
   "source": [
    "#### Plot"
   ]
  },
  {
   "cell_type": "code",
   "execution_count": 4,
   "metadata": {},
   "outputs": [
    {
     "name": "stderr",
     "output_type": "stream",
     "text": [
      "/Users/rona/miniconda3/envs/relocalisations_C4/lib/python3.7/site-packages/seaborn/axisgrid.py:243: UserWarning: The `size` parameter has been renamed to `height`; please update your code.\n",
      "  warnings.warn(msg, UserWarning)\n"
     ]
    },
    {
     "data": {
      "image/png": "[encoded data removed]",
      "text/plain": [
       "<Figure size 576x576 with 4 Axes>"
      ]
     },
     "metadata": {},
     "output_type": "display_data"
    }
   ],
   "source": [
    "# sns.plotting_context()\n",
    "sns.set(font_scale = 1.4, font=\"Arial\")\n",
    "sns.set_style(style='ticks')\n",
    "\n",
    "# Choose hue colour palette\n",
    "colours = ['#000000', '#009E73']\n",
    "\n",
    "grid = sns.FacetGrid(grouped_df, col=\"plot\", col_order=['1.10.18', '1.10.19', '1.10.32', '1.12.2'], hue=\"type\", hue_order=['wt', 'mutant'],\n",
    "                     palette=colours, col_wrap=2, size=4, aspect=1, hue_kws=dict(marker=[\"D\", \"o\"]))\n",
    "\n",
    "grid.map(plt.errorbar, \"Ci_mean\", \"A_mean\", \"A_std\", \"Ci_std\", markersize=5, linewidth=1.2, linestyle='', elinewidth=1, capsize=1, \n",
    "        markeredgecolor='black', markeredgewidth=0)\n",
    "\n",
    "\n",
    "# Adjust position abd labels of legend\n",
    "legend_ax = grid.axes.flat[3]\n",
    "handles, labels = legend_ax.get_legend_handles_labels()\n",
    "leg = plt.legend(handles[0:2],['Wild-type', 'Mutant'], bbox_to_anchor=(1.05, 1.5), loc=2, borderaxespad=0.)\n",
    "\n",
    "\n",
    "# Set axis labels\n",
    "grid.set_axis_labels(x_var=\"Ci ($\\mu$mol mol$^{-1}$)\", y_var=\"A ($\\mu$mol m$^{-2}$s$^{-1}$)\")\n",
    "\n",
    "\n",
    "# Set titles \n",
    "# grid.set_titles(\"{col_name}\")\n",
    "axes = grid.axes.flatten()\n",
    "axes[0].set_title(\"Line 1\")\n",
    "axes[1].set_title(\"Line 2\")\n",
    "axes[2].set_title(\"Line 3\")\n",
    "axes[3].set_title(\"Line 4\")\n",
    "\n",
    "for ax in grid.axes:\n",
    "    # set the title position to the horizontal center (0.5) of the axes\n",
    "    title = ax.set_title(ax.get_title(), position=(.5, 1.0), backgroundcolor=\"silver\", color='black', \n",
    "                         size=14)\n",
    "    # set the box style of the title text box to our custom box\n",
    "    bb = title.get_bbox_patch()\n",
    "    # use the axes' width as width of the text box\n",
    "    bb.set_boxstyle(\"ext\", pad=0.4, width=ax.get_window_extent().width )\n",
    "\n",
    "plt.savefig(\"../figures/aciCurves.pdf\", transparent=True, dpi=300, bbox_inches='tight')"
   ]
  },
  {
   "cell_type": "markdown",
   "metadata": {},
   "source": [
    "#### Plot stomatal conductance against Ci"
   ]
  },
  {
   "cell_type": "code",
   "execution_count": 5,
   "metadata": {},
   "outputs": [
    {
     "name": "stderr",
     "output_type": "stream",
     "text": [
      "/Users/rona/miniconda3/envs/relocalisations_C4/lib/python3.7/site-packages/seaborn/axisgrid.py:243: UserWarning: The `size` parameter has been renamed to `height`; please update your code.\n",
      "  warnings.warn(msg, UserWarning)\n"
     ]
    },
    {
     "data": {
      "image/png": "[encoded data removed]",
      "text/plain": [
       "<Figure size 576x576 with 4 Axes>"
      ]
     },
     "metadata": {},
     "output_type": "display_data"
    }
   ],
   "source": [
    "# sns.plotting_context()\n",
    "sns.set(font_scale = 1.4, font=\"Arial\")\n",
    "sns.set_style(style='ticks')\n",
    "\n",
    "# Choose hue colour palette\n",
    "colours = ['#000000', '#009E73']\n",
    "\n",
    "grid = sns.FacetGrid(grouped_df, col=\"plot\", col_order=['1.10.18', '1.10.19', '1.10.32', '1.12.2'], hue=\"type\", hue_order=['wt', 'mutant'],\n",
    "                     palette=colours, col_wrap=2, size=4, aspect=1, hue_kws=dict(marker=[\"D\", \"o\"]))\n",
    "\n",
    "grid.map(plt.errorbar, \"Ci_mean\", \"gsw_mean\", \"gsw_std\", \"Ci_std\", markersize=5, linewidth=1.2, linestyle='', elinewidth=1, capsize=1, \n",
    "        markeredgecolor='black', markeredgewidth=0)\n",
    "\n",
    "\n",
    "# Adjust position abd labels of legend\n",
    "legend_ax = grid.axes.flat[3]\n",
    "handles, labels = legend_ax.get_legend_handles_labels()\n",
    "leg = plt.legend(handles[0:2],['Wild-type', 'Mutant'], bbox_to_anchor=(1.05, 1.5), loc=2, borderaxespad=0.)\n",
    "\n",
    "\n",
    "# Set axis labels\n",
    "grid.set_axis_labels(x_var=\"Ci ($\\mu$mol mol$^{-1}$)\", y_var=\"gsw (mol m$^{-2}$s$^{-1}$)\")\n",
    "\n",
    "# Set titles \n",
    "# grid.set_titles(\"{col_name}\")\n",
    "axes = grid.axes.flatten()\n",
    "axes[0].set_title(\"Line 1\")\n",
    "axes[1].set_title(\"Line 2\")\n",
    "axes[2].set_title(\"Line 3\")\n",
    "axes[3].set_title(\"Line 4\")\n",
    "\n",
    "for ax in grid.axes:\n",
    "    # set the title position to the horizontal center (0.5) of the axes\n",
    "    title = ax.set_title(ax.get_title(), position=(.5, 1.0), backgroundcolor=\"silver\", color='black', \n",
    "                         size=14)\n",
    "    # set the box style of the title text box to our custom box\n",
    "    bb = title.get_bbox_patch()\n",
    "    # use the axes' width as width of the text box\n",
    "    bb.set_boxstyle(\"ext\", pad=0.4, width=ax.get_window_extent().width )\n",
    "\n",
    "plt.savefig(\"../figures/CigswCurves.pdf\", transparent=True, dpi=300, bbox_inches='tight')"
   ]
  },
  {
   "cell_type": "markdown",
   "metadata": {},
   "source": [
    "#### t-test to test the null hypothesis that there is no difference in maximum rate of carbon assimilation "
   ]
  },
  {
   "cell_type": "code",
   "execution_count": 10,
   "metadata": {},
   "outputs": [
    {
     "name": "stdout",
     "output_type": "stream",
     "text": [
      "1.10.18\n",
      "0.9953714623213051\n",
      "1.10.19\n",
      "0.6317289692176347\n",
      "1.10.32\n",
      "0.702178519466945\n",
      "1.12.2\n",
      "0.8620038752472984\n"
     ]
    }
   ],
   "source": [
    "CO2_conc = 1500\n",
    "\n",
    "for line in ['1.10.18', '1.10.19', '1.10.32', '1.12.2']:\n",
    "    t_test = stats.ttest_ind(aci_df[(aci_df['plot'] == line) & (aci_df['CO2_r_sp'] == CO2_conc) & (aci_df['type'] == 'wt')]['A'].to_list(),\n",
    "                             aci_df[(aci_df['plot'] == line) & (aci_df['CO2_r_sp'] == CO2_conc) & (aci_df['type'] == 'mutant')]['A'].to_list(), \n",
    "                             equal_var=True)\n",
    "    \n",
    "    print(line)\n",
    "    print(t_test.pvalue)"
   ]
  },
  {
   "cell_type": "code",
   "execution_count": 12,
   "metadata": {},
   "outputs": [
    {
     "name": "stdout",
     "output_type": "stream",
     "text": [
      "1.10.18\n",
      "Ttest_indResult(statistic=-0.3728441359020536, pvalue=0.7189492249348903)\n",
      "1.10.19\n",
      "Ttest_indResult(statistic=-1.5045174659964389, pvalue=0.17086132527084502)\n",
      "1.10.32\n",
      "Ttest_indResult(statistic=-2.3511907570959996, pvalue=0.05099804118091095)\n",
      "1.12.2\n",
      "Ttest_indResult(statistic=-1.3269605378240992, pvalue=0.22616768671318996)\n"
     ]
    }
   ],
   "source": [
    "CO2_conc = 1500\n",
    "\n",
    "for line in ['1.10.18', '1.10.19', '1.10.32', '1.12.2']:\n",
    "    t_test = stats.ttest_ind(aci_df[(aci_df['plot'] == line) & (aci_df['CO2_r_sp'] == CO2_conc) & (aci_df['type'] == 'wt')]['Ci'].to_list(),\n",
    "                             aci_df[(aci_df['plot'] == line) & (aci_df['CO2_r_sp'] == CO2_conc) & (aci_df['type'] == 'mutant')]['Ci'].to_list(), \n",
    "                             equal_var=True)\n",
    "    \n",
    "    print(line)\n",
    "    print(t_test)"
   ]
  },
  {
   "cell_type": "markdown",
   "metadata": {},
   "source": [
    "#### t-test to test the null hypothesis that there is no difference in maximum stomatal conductance"
   ]
  },
  {
   "cell_type": "code",
   "execution_count": 13,
   "metadata": {},
   "outputs": [
    {
     "name": "stdout",
     "output_type": "stream",
     "text": [
      "1.10.18\n",
      "Ttest_indResult(statistic=0.024795972826539885, pvalue=0.9808250536796121)\n",
      "1.10.19\n",
      "Ttest_indResult(statistic=-1.1996643548556751, pvalue=0.264590386666656)\n",
      "1.10.32\n",
      "Ttest_indResult(statistic=-2.33841578921845, pvalue=0.051966014018142326)\n",
      "1.12.2\n",
      "Ttest_indResult(statistic=-1.4273897663825792, pvalue=0.19651797399744692)\n"
     ]
    }
   ],
   "source": [
    "CO2_conc = 1500\n",
    "\n",
    "for line in ['1.10.18', '1.10.19', '1.10.32', '1.12.2']:\n",
    "    t_test = stats.ttest_ind(aci_df[(aci_df['plot'] == line) & (aci_df['CO2_r_sp'] == CO2_conc) & (aci_df['type'] == 'wt')]['gsw'].to_list(),\n",
    "                             aci_df[(aci_df['plot'] == line) & (aci_df['CO2_r_sp'] == CO2_conc) & (aci_df['type'] == 'mutant')]['gsw'].to_list(), \n",
    "                             equal_var=True)\n",
    "    \n",
    "    print(line)\n",
    "    print(t_test)"
   ]
  },
  {
   "cell_type": "code",
   "execution_count": 29,
   "metadata": {},
   "outputs": [
    {
     "name": "stdout",
     "output_type": "stream",
     "text": [
      "[857.006 814.844 777.263 728.463 608.214]\n",
      "[248.5315385 245.7192    222.6028    202.0546154 175.8368   ]\n",
      "[573.64  694.091 946.623 619.758]\n",
      "[164.7332    197.166     246.1588462 169.612    ]\n",
      "[880.222 617.695]\n",
      "[260.1692308 178.3611538]\n",
      "[749.935 962.104 743.846 806.174]\n",
      "[243.5816    234.4676    198.9836    204.6188462]\n"
     ]
    }
   ],
   "source": [
    "aci_df_2 = aci_df[(aci_df['Fo'] != 0) & (aci_df['Fm'] != 0)]\n",
    "for line in ['1.10.18', '1.10.19', '1.10.32', '1.12.2']:\n",
    "    print(aci_df_2[(aci_df_2['plot'] == line) & (aci_df_2['type'] == 'mutant')]['Fm'].unique())\n",
    "    print(aci_df_2[(aci_df_2['plot'] == line) & (aci_df_2['type'] == 'mutant')]['Fo'].unique())"
   ]
  },
  {
   "cell_type": "code",
   "execution_count": 28,
   "metadata": {},
   "outputs": [],
   "source": [
    "grouped_df = aci_df.groupby(['plant', 'type', 'line']).agg({'A': ['max']})\n",
    "grouped_df.columns = ['A_max']\n",
    "grouped_df = grouped_df.reset_index()"
   ]
  },
  {
   "cell_type": "markdown",
   "metadata": {},
   "source": [
    "### Comparing A max (maximum A across whole ACi curve) across lines"
   ]
  },
  {
   "cell_type": "code",
   "execution_count": 35,
   "metadata": {},
   "outputs": [
    {
     "name": "stdout",
     "output_type": "stream",
     "text": [
      "1.10.18\n",
      "Ttest_indResult(statistic=0.04700738597641924, pvalue=0.9636596355617224)\n",
      "1.10.19\n",
      "Ttest_indResult(statistic=0.6211306382905806, pvalue=0.55179631093271)\n",
      "1.10.32\n",
      "Ttest_indResult(statistic=0.47002656304067036, pvalue=0.6526273799103179)\n",
      "1.12.2\n",
      "Ttest_indResult(statistic=0.6175887596196146, pvalue=0.5540150314415394)\n"
     ]
    }
   ],
   "source": [
    "# Test for significant difference in Amax between individual lines and wild-type\n",
    "for line in ['1.10.18', '1.10.19', '1.10.32', '1.12.2']:\n",
    "    t_test = stats.ttest_ind(grouped_df[(grouped_df['line'] == line)]['A_max'].to_list(),\n",
    "                             grouped_df[(grouped_df['line'] == 'wt')]['A_max'].to_list(), \n",
    "                             equal_var=True)\n",
    "    print(line)\n",
    "    print(t_test)"
   ]
  },
  {
   "cell_type": "code",
   "execution_count": 37,
   "metadata": {},
   "outputs": [
    {
     "data": {
      "image/png": "[encoded data removed]",
      "text/plain": [
       "<Figure size 432x288 with 1 Axes>"
      ]
     },
     "metadata": {
      "needs_background": "light"
     },
     "output_type": "display_data"
    }
   ],
   "source": [
    "# Corresponding plot\n",
    "colours = ['gray', '#009E73']\n",
    "ax = sns.barplot(x=\"line\", y='A_max', hue=\"type\", data=grouped_df, dodge=False, ci='sd', palette=colours, saturation=0.5,\n",
    "            order=['wt', '1.10.18', '1.10.19', '1.10.32', '1.12.2'])"
   ]
  },
  {
   "cell_type": "code",
   "execution_count": 39,
   "metadata": {},
   "outputs": [
    {
     "name": "stdout",
     "output_type": "stream",
     "text": [
      "Ttest_indResult(statistic=0.586698444271266, pvalue=0.5633787909516607)\n"
     ]
    }
   ],
   "source": [
    "# Test for significant difference in Amax between all mutants and wild-type\n",
    "\n",
    "t_test = stats.ttest_ind(grouped_df[(grouped_df['type'] == 'mutant')]['A_max'].to_list(),\n",
    "                         grouped_df[(grouped_df['line'] == 'wt')]['A_max'].to_list(), \n",
    "                         equal_var=True)\n",
    "print(t_test)"
   ]
  },
  {
   "cell_type": "code",
   "execution_count": 40,
   "metadata": {},
   "outputs": [
    {
     "data": {
      "image/png": "[encoded data removed]",
      "text/plain": [
       "<Figure size 432x288 with 1 Axes>"
      ]
     },
     "metadata": {
      "needs_background": "light"
     },
     "output_type": "display_data"
    }
   ],
   "source": [
    "# Corresponding plot\n",
    "colours = ['gray', '#009E73']\n",
    "ax = sns.barplot(x=\"type\", y='A_max', hue=\"type\", data=grouped_df, dodge=False, ci='sd', palette=colours, saturation=0.5,\n",
    "            order=['wt', 'mutant'])"
   ]
  },
  {
   "cell_type": "code",
   "execution_count": null,
   "metadata": {},
   "outputs": [],
   "source": []
  }
 ],
 "metadata": {
  "kernelspec": {
   "display_name": "Python [conda env:relocalisations_C4]",
   "language": "python",
   "name": "conda-env-relocalisations_C4-py"
  },
  "language_info": {
   "codemirror_mode": {
    "name": "ipython",
    "version": 3
   },
   "file_extension": ".py",
   "mimetype": "text/x-python",
   "name": "python",
   "nbconvert_exporter": "python",
   "pygments_lexer": "ipython3",
   "version": "3.7.3"
  }
 },
 "nbformat": 4,
 "nbformat_minor": 4
}
