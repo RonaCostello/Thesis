{
 "cells": [
  {
   "cell_type": "code",
   "execution_count": 76,
   "metadata": {},
   "outputs": [],
   "source": [
    "import pandas as pd\n",
    "import numpy as np\n",
    "import matplotlib.pyplot as plt"
   ]
  },
  {
   "cell_type": "code",
   "execution_count": 77,
   "metadata": {},
   "outputs": [
    {
     "data": {
      "text/html": [
       "<div>\n",
       "<style scoped>\n",
       "    .dataframe tbody tr th:only-of-type {\n",
       "        vertical-align: middle;\n",
       "    }\n",
       "\n",
       "    .dataframe tbody tr th {\n",
       "        vertical-align: top;\n",
       "    }\n",
       "\n",
       "    .dataframe thead th {\n",
       "        text-align: right;\n",
       "    }\n",
       "</style>\n",
       "<table border=\"1\" class=\"dataframe\">\n",
       "  <thead>\n",
       "    <tr style=\"text-align: right;\">\n",
       "      <th></th>\n",
       "      <th>Sample</th>\n",
       "      <th>Replicate_1</th>\n",
       "      <th>Replicate_2</th>\n",
       "      <th>Replicate_3</th>\n",
       "      <th>Group</th>\n",
       "      <th>buffer_group</th>\n",
       "    </tr>\n",
       "  </thead>\n",
       "  <tbody>\n",
       "    <tr>\n",
       "      <th>0</th>\n",
       "      <td>Standard</td>\n",
       "      <td>0.054000</td>\n",
       "      <td>0.060</td>\n",
       "      <td>0.049000</td>\n",
       "      <td>1</td>\n",
       "      <td>na</td>\n",
       "    </tr>\n",
       "    <tr>\n",
       "      <th>1</th>\n",
       "      <td>3762 + CB</td>\n",
       "      <td>0.008000</td>\n",
       "      <td>0.007</td>\n",
       "      <td>0.008000</td>\n",
       "      <td>2</td>\n",
       "      <td>na</td>\n",
       "    </tr>\n",
       "    <tr>\n",
       "      <th>2</th>\n",
       "      <td>glutaminase + CB</td>\n",
       "      <td>0.013000</td>\n",
       "      <td>0.014</td>\n",
       "      <td>0.012000</td>\n",
       "      <td>3</td>\n",
       "      <td>CB</td>\n",
       "    </tr>\n",
       "    <tr>\n",
       "      <th>3</th>\n",
       "      <td>2mM glutamine + glutaminase</td>\n",
       "      <td>0.250000</td>\n",
       "      <td>0.225</td>\n",
       "      <td>0.212000</td>\n",
       "      <td>3</td>\n",
       "      <td>AA</td>\n",
       "    </tr>\n",
       "    <tr>\n",
       "      <th>4</th>\n",
       "      <td>2mM glutamine + CB</td>\n",
       "      <td>0.014000</td>\n",
       "      <td>0.011</td>\n",
       "      <td>0.014000</td>\n",
       "      <td>4</td>\n",
       "      <td>CB</td>\n",
       "    </tr>\n",
       "    <tr>\n",
       "      <th>5</th>\n",
       "      <td>2mM glutamine + 3762</td>\n",
       "      <td>0.015000</td>\n",
       "      <td>0.010</td>\n",
       "      <td>0.007000</td>\n",
       "      <td>4</td>\n",
       "      <td>AA</td>\n",
       "    </tr>\n",
       "    <tr>\n",
       "      <th>6</th>\n",
       "      <td>2mM aspartate + column buffer</td>\n",
       "      <td>0.014000</td>\n",
       "      <td>0.011</td>\n",
       "      <td>0.009267</td>\n",
       "      <td>5</td>\n",
       "      <td>CB</td>\n",
       "    </tr>\n",
       "    <tr>\n",
       "      <th>7</th>\n",
       "      <td>2mM aspartate + 3762</td>\n",
       "      <td>0.009567</td>\n",
       "      <td>0.007</td>\n",
       "      <td>0.008000</td>\n",
       "      <td>5</td>\n",
       "      <td>AA</td>\n",
       "    </tr>\n",
       "  </tbody>\n",
       "</table>\n",
       "</div>"
      ],
      "text/plain": [
       "                          Sample  Replicate_1  Replicate_2  Replicate_3  \\\n",
       "0                       Standard     0.054000        0.060     0.049000   \n",
       "1                      3762 + CB     0.008000        0.007     0.008000   \n",
       "2               glutaminase + CB     0.013000        0.014     0.012000   \n",
       "3    2mM glutamine + glutaminase     0.250000        0.225     0.212000   \n",
       "4             2mM glutamine + CB     0.014000        0.011     0.014000   \n",
       "5           2mM glutamine + 3762     0.015000        0.010     0.007000   \n",
       "6  2mM aspartate + column buffer     0.014000        0.011     0.009267   \n",
       "7           2mM aspartate + 3762     0.009567        0.007     0.008000   \n",
       "\n",
       "   Group buffer_group  \n",
       "0      1           na  \n",
       "1      2           na  \n",
       "2      3           CB  \n",
       "3      3           AA  \n",
       "4      4           CB  \n",
       "5      4           AA  \n",
       "6      5           CB  \n",
       "7      5           AA  "
      ]
     },
     "execution_count": 77,
     "metadata": {},
     "output_type": "execute_result"
    }
   ],
   "source": [
    "my_data = pd.read_csv('../data/enzymeAssay_2019_07_19.csv') \n",
    "my_data"
   ]
  },
  {
   "cell_type": "code",
   "execution_count": 78,
   "metadata": {},
   "outputs": [
    {
     "data": {
      "text/plain": [
       "8"
      ]
     },
     "execution_count": 78,
     "metadata": {},
     "output_type": "execute_result"
    }
   ],
   "source": [
    "len(my_data)"
   ]
  },
  {
   "cell_type": "code",
   "execution_count": 79,
   "metadata": {},
   "outputs": [],
   "source": [
    "averages = []\n",
    "std = []\n",
    "\n",
    "#upper_bound = []\n",
    "#lower_bound = []\n",
    "\n",
    "for i in range(len(my_data)):\n",
    "    values_oi = my_data.iloc[i][['Replicate_1', 'Replicate_2', 'Replicate_3']]\n",
    "    averages.append(values_oi.mean())\n",
    "    std.append(np.std(values_oi))\n",
    "    \n",
    "    #lower_bound.append(averages[i] - values_oi.min())\n",
    "    #upper_bound.append(values_oi.max() - averages[i])\n",
    "    \n",
    "my_data['averages'] = averages\n",
    "my_data['std'] = std"
   ]
  },
  {
   "cell_type": "code",
   "execution_count": 80,
   "metadata": {},
   "outputs": [
    {
     "name": "stdout",
     "output_type": "stream",
     "text": [
      "                          Sample  Replicate_1  Replicate_2  Replicate_3  \\\n",
      "0                       Standard     0.054000        0.060     0.049000   \n",
      "1                      3762 + CB     0.008000        0.007     0.008000   \n",
      "2               glutaminase + CB     0.013000        0.014     0.012000   \n",
      "3    2mM glutamine + glutaminase     0.250000        0.225     0.212000   \n",
      "4             2mM glutamine + CB     0.014000        0.011     0.014000   \n",
      "5           2mM glutamine + 3762     0.015000        0.010     0.007000   \n",
      "6  2mM aspartate + column buffer     0.014000        0.011     0.009267   \n",
      "7           2mM aspartate + 3762     0.009567        0.007     0.008000   \n",
      "\n",
      "   Group buffer_group  averages       std  \n",
      "0      1           na  0.054333  0.004497  \n",
      "1      2           na  0.007667  0.000471  \n",
      "2      3           CB  0.013000  0.000816  \n",
      "3      3           AA  0.229000  0.015769  \n",
      "4      4           CB  0.013000  0.001414  \n",
      "5      4           AA  0.010667  0.003300  \n",
      "6      5           CB  0.011422  0.001955  \n",
      "7      5           AA  0.008189  0.001056  \n"
     ]
    }
   ],
   "source": [
    "#my_data[['Sample', 'averages', 'lower_bound', 'upper_bound', 'Group', 'buffer_group']]\n",
    "my_data[['Sample', 'averages', 'std', 'Group', 'buffer_group']]\n",
    "print(my_data)"
   ]
  },
  {
   "cell_type": "code",
   "execution_count": 81,
   "metadata": {},
   "outputs": [],
   "source": [
    "# Setting the positions and width for the bars\n",
    "pos = list(range(len(my_data))) \n"
   ]
  },
  {
   "cell_type": "code",
   "execution_count": 83,
   "metadata": {},
   "outputs": [
    {
     "data": {
      "image/png": "[encoded data removed]",
      "text/plain": [
       "<Figure size 720x360 with 1 Axes>"
      ]
     },
     "metadata": {
      "needs_background": "light"
     },
     "output_type": "display_data"
    }
   ],
   "source": [
    "width = 0.8\n",
    "ind = np.arange(5)\n",
    "na_ind = ind[:2]\n",
    "cb_ind = ind[2:] - (width/4)\n",
    "aa_ind = ind[2:] + (width/4)\n",
    "\n",
    "\n",
    "# Plotting the bars\n",
    "fig, ax = plt.subplots(figsize=(10,5))\n",
    "\n",
    "na_data = my_data.loc[my_data['buffer_group'] == 'na']\n",
    "CB_data = my_data.loc[my_data['buffer_group'] == 'CB']\n",
    "AA_data = my_data.loc[my_data['buffer_group'] == 'AA']\n",
    "\n",
    "# Create a bar with pre_score data,\n",
    "# in position pos,\n",
    "p1 = plt.bar(na_ind, na_data['averages'], width*0.7, color='#77AADD', alpha=1, yerr=[na_data['std'], na_data['std']], capsize=(2.5))\n",
    "p2 = plt.bar(cb_ind, CB_data['averages'], width/2, color='#EE8866', alpha=1, yerr=[CB_data['std'], CB_data['std']], capsize=(2.5))\n",
    "p3 = plt.bar(aa_ind, AA_data['averages'], width/2, color = '#44BB99', alpha=1, yerr=[AA_data['std'], AA_data['std']], capsize=(2.5))\n",
    "\n",
    "\n",
    "ax.set_xticklabels(('', 'Enzyme assay\\nstandard', 'MBP::$\\it{Zm}$ALIP1 +\\nwater', '2 mM glutamine wo/w\\nglutaminase', '2 mM glutamine wo/w\\nMBP::$\\it{Zm}$ALIP1', '2mM aspartate wo/w\\nMBP::$\\it{Zm}$ALIP1'), fontsize=10)\n",
    "\n",
    "\n",
    "plt.yticks(fontsize = 16)\n",
    "ax.legend((p2[0], p3[0]), ('Water (wo/)', 'Enzyme (w/)'), fontsize=16)\n",
    "plt.ylabel('Decrease in absorbance\\nat 340 nm ($\\it{N}$ = 3)', fontsize=16)\n",
    "\n",
    "plt.plot([1.8, 2.2], [0.26, 0.26], 'k') \n",
    "plt.plot([1.7, 2.3], [0.27, 0.27], 'w') \n",
    "plt.text(2, 0.265, '*', fontsize=14, ha='center')\n",
    "\n",
    "\n",
    "plt.tight_layout()\n",
    "plt.savefig('../figures/ALIP1_enzyme_assay_glutamine_aspartate.pdf', format = 'pdf')\n"
   ]
  },
  {
   "cell_type": "code",
   "execution_count": null,
   "metadata": {},
   "outputs": [],
   "source": []
  },
  {
   "cell_type": "code",
   "execution_count": null,
   "metadata": {},
   "outputs": [],
   "source": []
  }
 ],
 "metadata": {
  "kernelspec": {
   "display_name": "Python [conda env:paper01_figures]",
   "language": "python",
   "name": "conda-env-paper01_figures-py"
  },
  "language_info": {
   "codemirror_mode": {
    "name": "ipython",
    "version": 3
   },
   "file_extension": ".py",
   "mimetype": "text/x-python",
   "name": "python",
   "nbconvert_exporter": "python",
   "pygments_lexer": "ipython3",
   "version": "3.7.3"
  }
 },
 "nbformat": 4,
 "nbformat_minor": 2
}
